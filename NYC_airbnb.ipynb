{
 "cells": [
  {
   "cell_type": "markdown",
   "id": "6052cab3",
   "metadata": {},
   "source": [
    "# New York City Airbnb Market"
   ]
  },
  {
   "cell_type": "code",
   "execution_count": 246,
   "id": "4d67ba25",
   "metadata": {},
   "outputs": [],
   "source": [
    "import pandas as pd\n",
    "import numpy as np\n",
    "import matplotlib.pyplot as plt"
   ]
  },
  {
   "cell_type": "code",
   "execution_count": 247,
   "id": "af534957",
   "metadata": {},
   "outputs": [],
   "source": [
    "# upload Dataset\n",
    "airbnb_review = pd.read_csv(\"data/airbnb_last_review.csv\")\n",
    "airbnb_price = pd.read_csv(\"data/airbnb_price.csv\")\n",
    "airbnb_type= pd.read_excel(\"data/airbnb_room_type.xlsx\")"
   ]
  },
  {
   "cell_type": "code",
   "execution_count": 248,
   "id": "76f834e5",
   "metadata": {},
   "outputs": [
    {
     "data": {
      "text/html": [
       "<div>\n",
       "<style scoped>\n",
       "    .dataframe tbody tr th:only-of-type {\n",
       "        vertical-align: middle;\n",
       "    }\n",
       "\n",
       "    .dataframe tbody tr th {\n",
       "        vertical-align: top;\n",
       "    }\n",
       "\n",
       "    .dataframe thead th {\n",
       "        text-align: right;\n",
       "    }\n",
       "</style>\n",
       "<table border=\"1\" class=\"dataframe\">\n",
       "  <thead>\n",
       "    <tr style=\"text-align: right;\">\n",
       "      <th></th>\n",
       "      <th>listing_id</th>\n",
       "      <th>host_name</th>\n",
       "      <th>last_review</th>\n",
       "    </tr>\n",
       "  </thead>\n",
       "  <tbody>\n",
       "    <tr>\n",
       "      <th>0</th>\n",
       "      <td>2595</td>\n",
       "      <td>Jennifer</td>\n",
       "      <td>May 21 2019</td>\n",
       "    </tr>\n",
       "    <tr>\n",
       "      <th>1</th>\n",
       "      <td>3831</td>\n",
       "      <td>LisaRoxanne</td>\n",
       "      <td>July 05 2019</td>\n",
       "    </tr>\n",
       "    <tr>\n",
       "      <th>2</th>\n",
       "      <td>5099</td>\n",
       "      <td>Chris</td>\n",
       "      <td>June 22 2019</td>\n",
       "    </tr>\n",
       "    <tr>\n",
       "      <th>3</th>\n",
       "      <td>5178</td>\n",
       "      <td>Shunichi</td>\n",
       "      <td>June 24 2019</td>\n",
       "    </tr>\n",
       "    <tr>\n",
       "      <th>4</th>\n",
       "      <td>5238</td>\n",
       "      <td>Ben</td>\n",
       "      <td>June 09 2019</td>\n",
       "    </tr>\n",
       "  </tbody>\n",
       "</table>\n",
       "</div>"
      ],
      "text/plain": [
       "    listing_id    host_name   last_review\n",
       "0         2595     Jennifer   May 21 2019\n",
       "1         3831  LisaRoxanne  July 05 2019\n",
       "2         5099        Chris  June 22 2019\n",
       "3         5178     Shunichi  June 24 2019\n",
       "4         5238          Ben  June 09 2019"
      ]
     },
     "execution_count": 248,
     "metadata": {},
     "output_type": "execute_result"
    }
   ],
   "source": [
    "# Explore the data\n",
    "airbnb_review.head()"
   ]
  },
  {
   "cell_type": "code",
   "execution_count": 249,
   "id": "6fdefa7b",
   "metadata": {},
   "outputs": [
    {
     "name": "stdout",
     "output_type": "stream",
     "text": [
      "<class 'pandas.core.frame.DataFrame'>\n",
      "RangeIndex: 25209 entries, 0 to 25208\n",
      "Data columns (total 3 columns):\n",
      " #   Column       Non-Null Count  Dtype \n",
      "---  ------       --------------  ----- \n",
      " 0    listing_id  25209 non-null  int64 \n",
      " 1   host_name    25201 non-null  object\n",
      " 2   last_review  25209 non-null  object\n",
      "dtypes: int64(1), object(2)\n",
      "memory usage: 591.0+ KB\n"
     ]
    }
   ],
   "source": [
    "airbnb_review.info()"
   ]
  },
  {
   "cell_type": "code",
   "execution_count": 250,
   "id": "990d540d",
   "metadata": {},
   "outputs": [
    {
     "data": {
      "text/plain": [
       "min    April 01 2019\n",
       "max      May 31 2019\n",
       "Name: last_review, dtype: object"
      ]
     },
     "execution_count": 250,
     "metadata": {},
     "output_type": "execute_result"
    }
   ],
   "source": [
    "airbnb_review['last_review'].agg(['min', 'max'])"
   ]
  },
  {
   "cell_type": "markdown",
   "id": "cc35e1c8",
   "metadata": {},
   "source": [
    "**Clean airbnb_review Dataset**"
   ]
  },
  {
   "cell_type": "code",
   "execution_count": 251,
   "id": "f6dba1fb",
   "metadata": {},
   "outputs": [],
   "source": [
    "# Eliminate space in column names\n",
    "airbnb_review.columns = airbnb_review.columns.str.strip()\n",
    "\n",
    "# Eliminate duplicates\n",
    "airbnb_review = airbnb_review.drop_duplicates(subset=[\"listing_id\", \"last_review\"])\n",
    "\n",
    "# Reset index after dropping duplicates\n",
    "airbnb_review = airbnb_review.reset_index(drop=True)\n",
    "\n",
    "# Change null values to NaN\n",
    "airbnb_review['host_name'] = airbnb_review['host_name'].fillna(\"Not identified\")\n",
    "\n",
    "# Review null values\n",
    "airbnb_review.isnull().sum()\n",
    "\n",
    "# Change the data type of the last_review column to datetime\n",
    "airbnb_review[\"last_review\"] = pd.to_datetime(airbnb_review[\"last_review\"])"
   ]
  },
  {
   "cell_type": "markdown",
   "id": "8f26add7",
   "metadata": {},
   "source": [
    "**Clean airbnb_price Dataset**"
   ]
  },
  {
   "cell_type": "code",
   "execution_count": 252,
   "id": "8c8845ce",
   "metadata": {},
   "outputs": [
    {
     "data": {
      "text/html": [
       "<div>\n",
       "<style scoped>\n",
       "    .dataframe tbody tr th:only-of-type {\n",
       "        vertical-align: middle;\n",
       "    }\n",
       "\n",
       "    .dataframe tbody tr th {\n",
       "        vertical-align: top;\n",
       "    }\n",
       "\n",
       "    .dataframe thead th {\n",
       "        text-align: right;\n",
       "    }\n",
       "</style>\n",
       "<table border=\"1\" class=\"dataframe\">\n",
       "  <thead>\n",
       "    <tr style=\"text-align: right;\">\n",
       "      <th></th>\n",
       "      <th>listing_id</th>\n",
       "      <th>price</th>\n",
       "      <th>nbhood_full</th>\n",
       "    </tr>\n",
       "  </thead>\n",
       "  <tbody>\n",
       "    <tr>\n",
       "      <th>0</th>\n",
       "      <td>2595</td>\n",
       "      <td>225 dollars</td>\n",
       "      <td>Manhattan, Midtown</td>\n",
       "    </tr>\n",
       "    <tr>\n",
       "      <th>1</th>\n",
       "      <td>3831</td>\n",
       "      <td>89 dollars</td>\n",
       "      <td>Brooklyn, Clinton Hill</td>\n",
       "    </tr>\n",
       "    <tr>\n",
       "      <th>2</th>\n",
       "      <td>5099</td>\n",
       "      <td>200 dollars</td>\n",
       "      <td>Manhattan, Murray Hill</td>\n",
       "    </tr>\n",
       "    <tr>\n",
       "      <th>3</th>\n",
       "      <td>5178</td>\n",
       "      <td>79 dollars</td>\n",
       "      <td>Manhattan, Hell's Kitchen</td>\n",
       "    </tr>\n",
       "    <tr>\n",
       "      <th>4</th>\n",
       "      <td>5238</td>\n",
       "      <td>150 dollars</td>\n",
       "      <td>Manhattan, Chinatown</td>\n",
       "    </tr>\n",
       "  </tbody>\n",
       "</table>\n",
       "</div>"
      ],
      "text/plain": [
       "   listing_id        price                nbhood_full\n",
       "0        2595  225 dollars         Manhattan, Midtown\n",
       "1        3831   89 dollars     Brooklyn, Clinton Hill\n",
       "2        5099  200 dollars     Manhattan, Murray Hill\n",
       "3        5178   79 dollars  Manhattan, Hell's Kitchen\n",
       "4        5238  150 dollars       Manhattan, Chinatown"
      ]
     },
     "execution_count": 252,
     "metadata": {},
     "output_type": "execute_result"
    }
   ],
   "source": [
    "airbnb_price.head()"
   ]
  },
  {
   "cell_type": "code",
   "execution_count": 253,
   "id": "0863b37b",
   "metadata": {},
   "outputs": [
    {
     "name": "stdout",
     "output_type": "stream",
     "text": [
      "<class 'pandas.core.frame.DataFrame'>\n",
      "RangeIndex: 25209 entries, 0 to 25208\n",
      "Data columns (total 3 columns):\n",
      " #   Column       Non-Null Count  Dtype \n",
      "---  ------       --------------  ----- \n",
      " 0   listing_id   25209 non-null  int64 \n",
      " 1   price        25209 non-null  object\n",
      " 2   nbhood_full  25209 non-null  object\n",
      "dtypes: int64(1), object(2)\n",
      "memory usage: 591.0+ KB\n"
     ]
    }
   ],
   "source": [
    "airbnb_price.info()"
   ]
  },
  {
   "cell_type": "code",
   "execution_count": 254,
   "id": "5d629481",
   "metadata": {},
   "outputs": [],
   "source": [
    "# Eliminate space in column names\n",
    "airbnb_price.columns = airbnb_price.columns.str.strip()\n",
    "\n",
    "# Eliminate duplicates\n",
    "airbnb_price = airbnb_price.drop_duplicates(subset=[\"listing_id\", \"price\"])\n",
    "\n",
    "# Reset index after dropping duplicates\n",
    "airbnb_price = airbnb_price.reset_index(drop=True)"
   ]
  },
  {
   "cell_type": "code",
   "execution_count": 255,
   "id": "27ba9c85",
   "metadata": {},
   "outputs": [
    {
     "name": "stdout",
     "output_type": "stream",
     "text": [
      "count    25209.000000\n",
      "mean       141.777936\n",
      "std        147.349137\n",
      "min          0.000000\n",
      "25%         69.000000\n",
      "50%        105.000000\n",
      "75%        175.000000\n",
      "max       7500.000000\n",
      "Name: price, dtype: float64\n"
     ]
    }
   ],
   "source": [
    "# Remove whitespace and string characters from prices column\n",
    "airbnb_price[\"price\"] = airbnb_price[\"price\"].str.replace(\" dollars\", \"\")\n",
    "\n",
    "# Convert prices column to numeric datatype\n",
    "airbnb_price[\"price\"] = pd.to_numeric(airbnb_price[\"price\"])\n",
    "\n",
    "# Print descriptive statistics for the price column\n",
    "print(airbnb_price[\"price\"].describe())"
   ]
  },
  {
   "cell_type": "markdown",
   "id": "c3fbe3e1",
   "metadata": {},
   "source": [
    "**Clean airbnb_type Dataset**"
   ]
  },
  {
   "cell_type": "code",
   "execution_count": 256,
   "id": "975b3811",
   "metadata": {},
   "outputs": [
    {
     "data": {
      "text/html": [
       "<div>\n",
       "<style scoped>\n",
       "    .dataframe tbody tr th:only-of-type {\n",
       "        vertical-align: middle;\n",
       "    }\n",
       "\n",
       "    .dataframe tbody tr th {\n",
       "        vertical-align: top;\n",
       "    }\n",
       "\n",
       "    .dataframe thead th {\n",
       "        text-align: right;\n",
       "    }\n",
       "</style>\n",
       "<table border=\"1\" class=\"dataframe\">\n",
       "  <thead>\n",
       "    <tr style=\"text-align: right;\">\n",
       "      <th></th>\n",
       "      <th>listing_id</th>\n",
       "      <th>description</th>\n",
       "      <th>room_type</th>\n",
       "    </tr>\n",
       "  </thead>\n",
       "  <tbody>\n",
       "    <tr>\n",
       "      <th>0</th>\n",
       "      <td>2595</td>\n",
       "      <td>Skylit Midtown Castle</td>\n",
       "      <td>Entire home/apt</td>\n",
       "    </tr>\n",
       "    <tr>\n",
       "      <th>1</th>\n",
       "      <td>3831</td>\n",
       "      <td>Cozy Entire Floor of Brownstone</td>\n",
       "      <td>Entire home/apt</td>\n",
       "    </tr>\n",
       "    <tr>\n",
       "      <th>2</th>\n",
       "      <td>5099</td>\n",
       "      <td>Large Cozy 1 BR Apartment In Midtown East</td>\n",
       "      <td>Entire home/apt</td>\n",
       "    </tr>\n",
       "    <tr>\n",
       "      <th>3</th>\n",
       "      <td>5178</td>\n",
       "      <td>Large Furnished Room Near B'way</td>\n",
       "      <td>private room</td>\n",
       "    </tr>\n",
       "    <tr>\n",
       "      <th>4</th>\n",
       "      <td>5238</td>\n",
       "      <td>Cute &amp; Cozy Lower East Side 1 bdrm</td>\n",
       "      <td>Entire home/apt</td>\n",
       "    </tr>\n",
       "  </tbody>\n",
       "</table>\n",
       "</div>"
      ],
      "text/plain": [
       "   listing_id                                description        room_type\n",
       "0        2595                      Skylit Midtown Castle  Entire home/apt\n",
       "1        3831            Cozy Entire Floor of Brownstone  Entire home/apt\n",
       "2        5099  Large Cozy 1 BR Apartment In Midtown East  Entire home/apt\n",
       "3        5178            Large Furnished Room Near B'way     private room\n",
       "4        5238         Cute & Cozy Lower East Side 1 bdrm  Entire home/apt"
      ]
     },
     "execution_count": 256,
     "metadata": {},
     "output_type": "execute_result"
    }
   ],
   "source": [
    "airbnb_type.head()"
   ]
  },
  {
   "cell_type": "code",
   "execution_count": 257,
   "id": "ed55edda",
   "metadata": {},
   "outputs": [
    {
     "name": "stdout",
     "output_type": "stream",
     "text": [
      "<class 'pandas.core.frame.DataFrame'>\n",
      "RangeIndex: 25209 entries, 0 to 25208\n",
      "Data columns (total 3 columns):\n",
      " #   Column       Non-Null Count  Dtype \n",
      "---  ------       --------------  ----- \n",
      " 0   listing_id   25209 non-null  int64 \n",
      " 1   description  25199 non-null  object\n",
      " 2   room_type    25209 non-null  object\n",
      "dtypes: int64(1), object(2)\n",
      "memory usage: 591.0+ KB\n"
     ]
    }
   ],
   "source": [
    "airbnb_type.info()"
   ]
  },
  {
   "cell_type": "code",
   "execution_count": 258,
   "id": "5436d829",
   "metadata": {},
   "outputs": [],
   "source": [
    "# Eliminate space in column names\n",
    "airbnb_type.columns = airbnb_type.columns.str.strip()\n",
    "\n",
    "# Eliminate duplicates\n",
    "airbnb_type = airbnb_type.drop_duplicates(subset=[\"listing_id\", \"description\"])\n",
    "\n",
    "# Reset index after dropping duplicates\n",
    "airbnb_type = airbnb_type.reset_index(drop=True)\n",
    "\n",
    "# input missing value\n",
    "airbnb_type['description'] = airbnb_type['description'].fillna(\"Not identified\")\n",
    "\n",
    "# Change the column room_type\n",
    "airbnb_type['room_type'] = airbnb_type['room_type'].str.title()"
   ]
  },
  {
   "cell_type": "markdown",
   "id": "40acf39f",
   "metadata": {},
   "source": [
    "Create a one Dataset"
   ]
  },
  {
   "cell_type": "code",
   "execution_count": 259,
   "id": "0b72819b",
   "metadata": {},
   "outputs": [
    {
     "data": {
      "text/html": [
       "<div>\n",
       "<style scoped>\n",
       "    .dataframe tbody tr th:only-of-type {\n",
       "        vertical-align: middle;\n",
       "    }\n",
       "\n",
       "    .dataframe tbody tr th {\n",
       "        vertical-align: top;\n",
       "    }\n",
       "\n",
       "    .dataframe thead th {\n",
       "        text-align: right;\n",
       "    }\n",
       "</style>\n",
       "<table border=\"1\" class=\"dataframe\">\n",
       "  <thead>\n",
       "    <tr style=\"text-align: right;\">\n",
       "      <th></th>\n",
       "      <th>listing_id</th>\n",
       "      <th>host_name</th>\n",
       "      <th>last_review</th>\n",
       "      <th>price</th>\n",
       "      <th>nbhood_full</th>\n",
       "      <th>description</th>\n",
       "      <th>room_type</th>\n",
       "    </tr>\n",
       "  </thead>\n",
       "  <tbody>\n",
       "    <tr>\n",
       "      <th>0</th>\n",
       "      <td>2595</td>\n",
       "      <td>Jennifer</td>\n",
       "      <td>2019-05-21</td>\n",
       "      <td>225</td>\n",
       "      <td>Manhattan, Midtown</td>\n",
       "      <td>Skylit Midtown Castle</td>\n",
       "      <td>Entire Home/Apt</td>\n",
       "    </tr>\n",
       "    <tr>\n",
       "      <th>1</th>\n",
       "      <td>3831</td>\n",
       "      <td>LisaRoxanne</td>\n",
       "      <td>2019-07-05</td>\n",
       "      <td>89</td>\n",
       "      <td>Brooklyn, Clinton Hill</td>\n",
       "      <td>Cozy Entire Floor of Brownstone</td>\n",
       "      <td>Entire Home/Apt</td>\n",
       "    </tr>\n",
       "    <tr>\n",
       "      <th>2</th>\n",
       "      <td>5099</td>\n",
       "      <td>Chris</td>\n",
       "      <td>2019-06-22</td>\n",
       "      <td>200</td>\n",
       "      <td>Manhattan, Murray Hill</td>\n",
       "      <td>Large Cozy 1 BR Apartment In Midtown East</td>\n",
       "      <td>Entire Home/Apt</td>\n",
       "    </tr>\n",
       "    <tr>\n",
       "      <th>3</th>\n",
       "      <td>5178</td>\n",
       "      <td>Shunichi</td>\n",
       "      <td>2019-06-24</td>\n",
       "      <td>79</td>\n",
       "      <td>Manhattan, Hell's Kitchen</td>\n",
       "      <td>Large Furnished Room Near B'way</td>\n",
       "      <td>Private Room</td>\n",
       "    </tr>\n",
       "    <tr>\n",
       "      <th>4</th>\n",
       "      <td>5238</td>\n",
       "      <td>Ben</td>\n",
       "      <td>2019-06-09</td>\n",
       "      <td>150</td>\n",
       "      <td>Manhattan, Chinatown</td>\n",
       "      <td>Cute &amp; Cozy Lower East Side 1 bdrm</td>\n",
       "      <td>Entire Home/Apt</td>\n",
       "    </tr>\n",
       "    <tr>\n",
       "      <th>...</th>\n",
       "      <td>...</td>\n",
       "      <td>...</td>\n",
       "      <td>...</td>\n",
       "      <td>...</td>\n",
       "      <td>...</td>\n",
       "      <td>...</td>\n",
       "      <td>...</td>\n",
       "    </tr>\n",
       "    <tr>\n",
       "      <th>25204</th>\n",
       "      <td>36425863</td>\n",
       "      <td>Rusaa</td>\n",
       "      <td>2019-07-07</td>\n",
       "      <td>129</td>\n",
       "      <td>Manhattan, Upper East Side</td>\n",
       "      <td>Lovely Privet Bedroom with Privet Restroom</td>\n",
       "      <td>Private Room</td>\n",
       "    </tr>\n",
       "    <tr>\n",
       "      <th>25205</th>\n",
       "      <td>36427429</td>\n",
       "      <td>H Ai</td>\n",
       "      <td>2019-07-07</td>\n",
       "      <td>45</td>\n",
       "      <td>Queens, Flushing</td>\n",
       "      <td>No.2 with queen size bed</td>\n",
       "      <td>Private Room</td>\n",
       "    </tr>\n",
       "    <tr>\n",
       "      <th>25206</th>\n",
       "      <td>36438336</td>\n",
       "      <td>Ben</td>\n",
       "      <td>2019-07-07</td>\n",
       "      <td>235</td>\n",
       "      <td>Staten Island, Great Kills</td>\n",
       "      <td>Seas The Moment</td>\n",
       "      <td>Private Room</td>\n",
       "    </tr>\n",
       "    <tr>\n",
       "      <th>25207</th>\n",
       "      <td>36442252</td>\n",
       "      <td>Blaine</td>\n",
       "      <td>2019-07-07</td>\n",
       "      <td>100</td>\n",
       "      <td>Bronx, Mott Haven</td>\n",
       "      <td>1B-1B apartment near by Metro</td>\n",
       "      <td>Entire Home/Apt</td>\n",
       "    </tr>\n",
       "    <tr>\n",
       "      <th>25208</th>\n",
       "      <td>36455809</td>\n",
       "      <td>Christine</td>\n",
       "      <td>2019-07-08</td>\n",
       "      <td>30</td>\n",
       "      <td>Brooklyn, Bushwick</td>\n",
       "      <td>Cozy Private Room in Bushwick, Brooklyn</td>\n",
       "      <td>Private Room</td>\n",
       "    </tr>\n",
       "  </tbody>\n",
       "</table>\n",
       "<p>25209 rows × 7 columns</p>\n",
       "</div>"
      ],
      "text/plain": [
       "       listing_id    host_name last_review  price                 nbhood_full  \\\n",
       "0            2595     Jennifer  2019-05-21    225          Manhattan, Midtown   \n",
       "1            3831  LisaRoxanne  2019-07-05     89      Brooklyn, Clinton Hill   \n",
       "2            5099        Chris  2019-06-22    200      Manhattan, Murray Hill   \n",
       "3            5178     Shunichi  2019-06-24     79   Manhattan, Hell's Kitchen   \n",
       "4            5238          Ben  2019-06-09    150        Manhattan, Chinatown   \n",
       "...           ...          ...         ...    ...                         ...   \n",
       "25204    36425863        Rusaa  2019-07-07    129  Manhattan, Upper East Side   \n",
       "25205    36427429         H Ai  2019-07-07     45            Queens, Flushing   \n",
       "25206    36438336          Ben  2019-07-07    235  Staten Island, Great Kills   \n",
       "25207    36442252       Blaine  2019-07-07    100           Bronx, Mott Haven   \n",
       "25208    36455809    Christine  2019-07-08     30          Brooklyn, Bushwick   \n",
       "\n",
       "                                      description        room_type  \n",
       "0                           Skylit Midtown Castle  Entire Home/Apt  \n",
       "1                 Cozy Entire Floor of Brownstone  Entire Home/Apt  \n",
       "2       Large Cozy 1 BR Apartment In Midtown East  Entire Home/Apt  \n",
       "3                 Large Furnished Room Near B'way     Private Room  \n",
       "4              Cute & Cozy Lower East Side 1 bdrm  Entire Home/Apt  \n",
       "...                                           ...              ...  \n",
       "25204  Lovely Privet Bedroom with Privet Restroom     Private Room  \n",
       "25205                    No.2 with queen size bed     Private Room  \n",
       "25206                             Seas The Moment     Private Room  \n",
       "25207               1B-1B apartment near by Metro  Entire Home/Apt  \n",
       "25208     Cozy Private Room in Bushwick, Brooklyn     Private Room  \n",
       "\n",
       "[25209 rows x 7 columns]"
      ]
     },
     "execution_count": 259,
     "metadata": {},
     "output_type": "execute_result"
    }
   ],
   "source": [
    "df = pd.merge(airbnb_review, airbnb_price, on = 'listing_id')\n",
    "df_airbnb = pd.merge(df, airbnb_type, on = 'listing_id')\n",
    "df_airbnb.reset_index(drop=True, inplace=True)\n",
    "df_airbnb"
   ]
  },
  {
   "cell_type": "code",
   "execution_count": 260,
   "id": "6e8353bb",
   "metadata": {},
   "outputs": [
    {
     "name": "stdout",
     "output_type": "stream",
     "text": [
      "<class 'pandas.core.frame.DataFrame'>\n",
      "RangeIndex: 25209 entries, 0 to 25208\n",
      "Data columns (total 7 columns):\n",
      " #   Column       Non-Null Count  Dtype         \n",
      "---  ------       --------------  -----         \n",
      " 0   listing_id   25209 non-null  int64         \n",
      " 1   host_name    25209 non-null  object        \n",
      " 2   last_review  25209 non-null  datetime64[ns]\n",
      " 3   price        25209 non-null  int64         \n",
      " 4   nbhood_full  25209 non-null  object        \n",
      " 5   description  25209 non-null  object        \n",
      " 6   room_type    25209 non-null  object        \n",
      "dtypes: datetime64[ns](1), int64(2), object(4)\n",
      "memory usage: 1.3+ MB\n"
     ]
    }
   ],
   "source": [
    "df_airbnb.info()"
   ]
  },
  {
   "cell_type": "code",
   "execution_count": 261,
   "id": "7eca697e",
   "metadata": {},
   "outputs": [],
   "source": [
    "df_airbnb_final= df_airbnb.copy()"
   ]
  },
  {
   "cell_type": "code",
   "execution_count": 262,
   "id": "d6d310d9",
   "metadata": {},
   "outputs": [
    {
     "name": "stdout",
     "output_type": "stream",
     "text": [
      "count    25209.000000\n",
      "mean       141.777936\n",
      "std        147.349137\n",
      "min          0.000000\n",
      "25%         69.000000\n",
      "50%        105.000000\n",
      "75%        175.000000\n",
      "max       7500.000000\n",
      "Name: price, dtype: float64\n"
     ]
    }
   ],
   "source": [
    "print(df_airbnb_final[\"price\"].describe())"
   ]
  },
  {
   "cell_type": "code",
   "execution_count": 263,
   "id": "96a9602b",
   "metadata": {},
   "outputs": [
    {
     "name": "stdout",
     "output_type": "stream",
     "text": [
      "The average price per night for an Airbnb  in NYC is $141.82.\n"
     ]
    }
   ],
   "source": [
    "# Subset prices for listings costing $0, free_listings\n",
    "free =df_airbnb_final[\"price\"] == 0\n",
    "\n",
    "# Update prices by removing all free listings from prices\n",
    "df_airbnb_final = df_airbnb_final.loc[~free_listings]\n",
    "\n",
    "# Calculate the average price, avg_price\n",
    "avg_price = round(df_airbnb_final[\"price\"].mean(), 2)\n",
    "\n",
    "# Print the average price\n",
    "print(\"The average price per night for an Airbnb  in NYC is ${}.\".format(avg_price))"
   ]
  },
  {
   "cell_type": "markdown",
   "id": "58bad331",
   "metadata": {},
   "source": [
    "Review the  average price for room type"
   ]
  },
  {
   "cell_type": "code",
   "execution_count": 264,
   "id": "f2c5f310",
   "metadata": {},
   "outputs": [
    {
     "data": {
      "image/png": "[encoded data removed]",
      "text/plain": [
       "<Figure size 800x500 with 1 Axes>"
      ]
     },
     "metadata": {},
     "output_type": "display_data"
    }
   ],
   "source": [
    "# Average price for room type\n",
    "avg_price = df_airbnb_final.groupby('room_type')['price'].mean()\n",
    "\n",
    "# Graphic\n",
    "plt.figure(figsize=(8,5))\n",
    "plt.bar(avg_price.index, avg_price.values, color='skyblue')\n",
    "plt.xlabel('Room Type')\n",
    "plt.ylabel('Average Price')\n",
    "plt.title('Average Airbnb Price by Room Type')\n",
    "plt.xticks(rotation=45)\n",
    "plt.tight_layout()\n",
    "plt.show()"
   ]
  },
  {
   "cell_type": "code",
   "execution_count": 265,
   "id": "f4d320b5",
   "metadata": {},
   "outputs": [
    {
     "data": {
      "text/html": [
       "<div>\n",
       "<style scoped>\n",
       "    .dataframe tbody tr th:only-of-type {\n",
       "        vertical-align: middle;\n",
       "    }\n",
       "\n",
       "    .dataframe tbody tr th {\n",
       "        vertical-align: top;\n",
       "    }\n",
       "\n",
       "    .dataframe thead th {\n",
       "        text-align: right;\n",
       "    }\n",
       "</style>\n",
       "<table border=\"1\" class=\"dataframe\">\n",
       "  <thead>\n",
       "    <tr style=\"text-align: right;\">\n",
       "      <th></th>\n",
       "      <th>listing_id</th>\n",
       "      <th>host_name</th>\n",
       "      <th>last_review</th>\n",
       "      <th>price</th>\n",
       "      <th>nbhood_full</th>\n",
       "      <th>description</th>\n",
       "      <th>room_type</th>\n",
       "      <th>borough</th>\n",
       "    </tr>\n",
       "  </thead>\n",
       "  <tbody>\n",
       "    <tr>\n",
       "      <th>0</th>\n",
       "      <td>2595</td>\n",
       "      <td>Jennifer</td>\n",
       "      <td>2019-05-21</td>\n",
       "      <td>225</td>\n",
       "      <td>Manhattan, Midtown</td>\n",
       "      <td>Skylit Midtown Castle</td>\n",
       "      <td>Entire Home/Apt</td>\n",
       "      <td>Manhattan</td>\n",
       "    </tr>\n",
       "    <tr>\n",
       "      <th>1</th>\n",
       "      <td>3831</td>\n",
       "      <td>LisaRoxanne</td>\n",
       "      <td>2019-07-05</td>\n",
       "      <td>89</td>\n",
       "      <td>Brooklyn, Clinton Hill</td>\n",
       "      <td>Cozy Entire Floor of Brownstone</td>\n",
       "      <td>Entire Home/Apt</td>\n",
       "      <td>Brooklyn</td>\n",
       "    </tr>\n",
       "    <tr>\n",
       "      <th>2</th>\n",
       "      <td>5099</td>\n",
       "      <td>Chris</td>\n",
       "      <td>2019-06-22</td>\n",
       "      <td>200</td>\n",
       "      <td>Manhattan, Murray Hill</td>\n",
       "      <td>Large Cozy 1 BR Apartment In Midtown East</td>\n",
       "      <td>Entire Home/Apt</td>\n",
       "      <td>Manhattan</td>\n",
       "    </tr>\n",
       "    <tr>\n",
       "      <th>3</th>\n",
       "      <td>5178</td>\n",
       "      <td>Shunichi</td>\n",
       "      <td>2019-06-24</td>\n",
       "      <td>79</td>\n",
       "      <td>Manhattan, Hell's Kitchen</td>\n",
       "      <td>Large Furnished Room Near B'way</td>\n",
       "      <td>Private Room</td>\n",
       "      <td>Manhattan</td>\n",
       "    </tr>\n",
       "    <tr>\n",
       "      <th>4</th>\n",
       "      <td>5238</td>\n",
       "      <td>Ben</td>\n",
       "      <td>2019-06-09</td>\n",
       "      <td>150</td>\n",
       "      <td>Manhattan, Chinatown</td>\n",
       "      <td>Cute &amp; Cozy Lower East Side 1 bdrm</td>\n",
       "      <td>Entire Home/Apt</td>\n",
       "      <td>Manhattan</td>\n",
       "    </tr>\n",
       "    <tr>\n",
       "      <th>...</th>\n",
       "      <td>...</td>\n",
       "      <td>...</td>\n",
       "      <td>...</td>\n",
       "      <td>...</td>\n",
       "      <td>...</td>\n",
       "      <td>...</td>\n",
       "      <td>...</td>\n",
       "      <td>...</td>\n",
       "    </tr>\n",
       "    <tr>\n",
       "      <th>25204</th>\n",
       "      <td>36425863</td>\n",
       "      <td>Rusaa</td>\n",
       "      <td>2019-07-07</td>\n",
       "      <td>129</td>\n",
       "      <td>Manhattan, Upper East Side</td>\n",
       "      <td>Lovely Privet Bedroom with Privet Restroom</td>\n",
       "      <td>Private Room</td>\n",
       "      <td>Manhattan</td>\n",
       "    </tr>\n",
       "    <tr>\n",
       "      <th>25205</th>\n",
       "      <td>36427429</td>\n",
       "      <td>H Ai</td>\n",
       "      <td>2019-07-07</td>\n",
       "      <td>45</td>\n",
       "      <td>Queens, Flushing</td>\n",
       "      <td>No.2 with queen size bed</td>\n",
       "      <td>Private Room</td>\n",
       "      <td>Queens</td>\n",
       "    </tr>\n",
       "    <tr>\n",
       "      <th>25206</th>\n",
       "      <td>36438336</td>\n",
       "      <td>Ben</td>\n",
       "      <td>2019-07-07</td>\n",
       "      <td>235</td>\n",
       "      <td>Staten Island, Great Kills</td>\n",
       "      <td>Seas The Moment</td>\n",
       "      <td>Private Room</td>\n",
       "      <td>Staten Island</td>\n",
       "    </tr>\n",
       "    <tr>\n",
       "      <th>25207</th>\n",
       "      <td>36442252</td>\n",
       "      <td>Blaine</td>\n",
       "      <td>2019-07-07</td>\n",
       "      <td>100</td>\n",
       "      <td>Bronx, Mott Haven</td>\n",
       "      <td>1B-1B apartment near by Metro</td>\n",
       "      <td>Entire Home/Apt</td>\n",
       "      <td>Bronx</td>\n",
       "    </tr>\n",
       "    <tr>\n",
       "      <th>25208</th>\n",
       "      <td>36455809</td>\n",
       "      <td>Christine</td>\n",
       "      <td>2019-07-08</td>\n",
       "      <td>30</td>\n",
       "      <td>Brooklyn, Bushwick</td>\n",
       "      <td>Cozy Private Room in Bushwick, Brooklyn</td>\n",
       "      <td>Private Room</td>\n",
       "      <td>Brooklyn</td>\n",
       "    </tr>\n",
       "  </tbody>\n",
       "</table>\n",
       "<p>25202 rows × 8 columns</p>\n",
       "</div>"
      ],
      "text/plain": [
       "       listing_id    host_name last_review  price                 nbhood_full  \\\n",
       "0            2595     Jennifer  2019-05-21    225          Manhattan, Midtown   \n",
       "1            3831  LisaRoxanne  2019-07-05     89      Brooklyn, Clinton Hill   \n",
       "2            5099        Chris  2019-06-22    200      Manhattan, Murray Hill   \n",
       "3            5178     Shunichi  2019-06-24     79   Manhattan, Hell's Kitchen   \n",
       "4            5238          Ben  2019-06-09    150        Manhattan, Chinatown   \n",
       "...           ...          ...         ...    ...                         ...   \n",
       "25204    36425863        Rusaa  2019-07-07    129  Manhattan, Upper East Side   \n",
       "25205    36427429         H Ai  2019-07-07     45            Queens, Flushing   \n",
       "25206    36438336          Ben  2019-07-07    235  Staten Island, Great Kills   \n",
       "25207    36442252       Blaine  2019-07-07    100           Bronx, Mott Haven   \n",
       "25208    36455809    Christine  2019-07-08     30          Brooklyn, Bushwick   \n",
       "\n",
       "                                      description        room_type  \\\n",
       "0                           Skylit Midtown Castle  Entire Home/Apt   \n",
       "1                 Cozy Entire Floor of Brownstone  Entire Home/Apt   \n",
       "2       Large Cozy 1 BR Apartment In Midtown East  Entire Home/Apt   \n",
       "3                 Large Furnished Room Near B'way     Private Room   \n",
       "4              Cute & Cozy Lower East Side 1 bdrm  Entire Home/Apt   \n",
       "...                                           ...              ...   \n",
       "25204  Lovely Privet Bedroom with Privet Restroom     Private Room   \n",
       "25205                    No.2 with queen size bed     Private Room   \n",
       "25206                             Seas The Moment     Private Room   \n",
       "25207               1B-1B apartment near by Metro  Entire Home/Apt   \n",
       "25208     Cozy Private Room in Bushwick, Brooklyn     Private Room   \n",
       "\n",
       "             borough  \n",
       "0          Manhattan  \n",
       "1           Brooklyn  \n",
       "2          Manhattan  \n",
       "3          Manhattan  \n",
       "4          Manhattan  \n",
       "...              ...  \n",
       "25204      Manhattan  \n",
       "25205         Queens  \n",
       "25206  Staten Island  \n",
       "25207          Bronx  \n",
       "25208       Brooklyn  \n",
       "\n",
       "[25202 rows x 8 columns]"
      ]
     },
     "execution_count": 265,
     "metadata": {},
     "output_type": "execute_result"
    }
   ],
   "source": [
    "df_airbnb_final['borough'] = df_airbnb_final['nbhood_full'].str.partition(\",\")[0]\n",
    "df_airbnb_final\n"
   ]
  },
  {
   "cell_type": "code",
   "execution_count": 274,
   "id": "ccf66ac7",
   "metadata": {},
   "outputs": [
    {
     "data": {
      "text/html": [
       "<div>\n",
       "<style scoped>\n",
       "    .dataframe tbody tr th:only-of-type {\n",
       "        vertical-align: middle;\n",
       "    }\n",
       "\n",
       "    .dataframe tbody tr th {\n",
       "        vertical-align: top;\n",
       "    }\n",
       "\n",
       "    .dataframe thead th {\n",
       "        text-align: right;\n",
       "    }\n",
       "</style>\n",
       "<table border=\"1\" class=\"dataframe\">\n",
       "  <thead>\n",
       "    <tr style=\"text-align: right;\">\n",
       "      <th></th>\n",
       "      <th>sum</th>\n",
       "      <th>mean</th>\n",
       "      <th>median</th>\n",
       "      <th>count</th>\n",
       "    </tr>\n",
       "    <tr>\n",
       "      <th>borough</th>\n",
       "      <th></th>\n",
       "      <th></th>\n",
       "      <th></th>\n",
       "      <th></th>\n",
       "    </tr>\n",
       "  </thead>\n",
       "  <tbody>\n",
       "    <tr>\n",
       "      <th>Manhattan</th>\n",
       "      <td>1899255</td>\n",
       "      <td>184.000678</td>\n",
       "      <td>149.0</td>\n",
       "      <td>10322</td>\n",
       "    </tr>\n",
       "    <tr>\n",
       "      <th>Brooklyn</th>\n",
       "      <td>1275855</td>\n",
       "      <td>121.974665</td>\n",
       "      <td>95.0</td>\n",
       "      <td>10460</td>\n",
       "    </tr>\n",
       "    <tr>\n",
       "      <th>Queens</th>\n",
       "      <td>320765</td>\n",
       "      <td>92.813947</td>\n",
       "      <td>70.0</td>\n",
       "      <td>3456</td>\n",
       "    </tr>\n",
       "    <tr>\n",
       "      <th>Bronx</th>\n",
       "      <td>55231</td>\n",
       "      <td>79.241033</td>\n",
       "      <td>65.0</td>\n",
       "      <td>697</td>\n",
       "    </tr>\n",
       "    <tr>\n",
       "      <th>Staten Island</th>\n",
       "      <td>22974</td>\n",
       "      <td>86.044944</td>\n",
       "      <td>71.0</td>\n",
       "      <td>267</td>\n",
       "    </tr>\n",
       "  </tbody>\n",
       "</table>\n",
       "</div>"
      ],
      "text/plain": [
       "                   sum        mean  median  count\n",
       "borough                                          \n",
       "Manhattan      1899255  184.000678   149.0  10322\n",
       "Brooklyn       1275855  121.974665    95.0  10460\n",
       "Queens          320765   92.813947    70.0   3456\n",
       "Bronx            55231   79.241033    65.0    697\n",
       "Staten Island    22974   86.044944    71.0    267"
      ]
     },
     "execution_count": 274,
     "metadata": {},
     "output_type": "execute_result"
    }
   ],
   "source": [
    "# Average price for borough\n",
    "boroughs = df_airbnb_final.groupby(\"borough\")[\"price\"].agg([\"sum\", \"mean\", \"median\", \"count\"])\n",
    "boroughs.sort_values(\"sum\", ascending=False)"
   ]
  },
  {
   "cell_type": "code",
   "execution_count": 276,
   "id": "e4aa8eff",
   "metadata": {},
   "outputs": [
    {
     "data": {
      "image/png": "[encoded data removed]",
      "text/plain": [
       "<Figure size 1200x600 with 1 Axes>"
      ]
     },
     "metadata": {},
     "output_type": "display_data"
    }
   ],
   "source": [
    "# Line graph\n",
    "avg_price_by_date = df_airbnb_final.groupby('last_review')['price'].mean()\n",
    "\n",
    "plt.figure(figsize=(12, 6))\n",
    "plt.plot(avg_price_by_date.index, avg_price_by_date.values, marker='o', color='teal')\n",
    "plt.title('Evolución del Precio Promedio por Fecha')\n",
    "plt.xlabel('Fecha')\n",
    "plt.ylabel('Precio Promedio')\n",
    "plt.grid(True)\n",
    "plt.xticks(rotation=45)\n",
    "plt.tight_layout()\n",
    "plt.show()"
   ]
  }
 ],
 "metadata": {
  "kernelspec": {
   "display_name": "Python 3",
   "language": "python",
   "name": "python3"
  },
  "language_info": {
   "codemirror_mode": {
    "name": "ipython",
    "version": 3
   },
   "file_extension": ".py",
   "mimetype": "text/x-python",
   "name": "python",
   "nbconvert_exporter": "python",
   "pygments_lexer": "ipython3",
   "version": "3.13.2"
  }
 },
 "nbformat": 4,
 "nbformat_minor": 5
}
